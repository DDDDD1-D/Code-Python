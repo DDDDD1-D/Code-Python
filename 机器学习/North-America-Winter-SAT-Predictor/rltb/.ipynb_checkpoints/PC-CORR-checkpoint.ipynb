{
 "cells": [
  {
   "cell_type": "code",
   "execution_count": 1,
   "metadata": {},
   "outputs": [],
   "source": [
    "import sys\n",
    "import py_compile\n",
    "import pandas as pd\n",
    "import numpy as np\n",
    "\n",
    "sys.path.append(r\"../\")\n",
    "py_compile.compile(\"../utility.py\")\n",
    "from utility import rmse"
   ]
  },
  {
   "cell_type": "code",
   "execution_count": 2,
   "metadata": {},
   "outputs": [
    {
     "name": "stdout",
     "output_type": "stream",
     "text": [
      "PC1: 0.46\n",
      "PC2: -0.17\n",
      "PC3: 0.34\n",
      "PC1: 0.31\n",
      "PC2: 0.01\n",
      "PC3: 0.63\n"
     ]
    }
   ],
   "source": [
    "df1 = pd.read_csv(\"../data/PC1-input.csv\")\n",
    "PC1 = df1['PC1']\n",
    "\n",
    "df2 = pd.read_csv(\"../data/PC2-input.csv\")\n",
    "PC2 = df2['PC2']\n",
    "\n",
    "df3 = pd.read_csv(\"../data/PC3-input.csv\")\n",
    "PC3 = df3['PC3']\n",
    "\n",
    "can1 = pd.read_csv(\"../CanCM4i/PC1.txt\",header=None)\n",
    "can2 = pd.read_csv(\"../CanCM4i/PC2.txt\",header=None)\n",
    "can3 = pd.read_csv(\"../CanCM4i/PC3.txt\",header=None)\n",
    "print(\"PC1: %.2f\" % np.corrcoef(PC1[2:32],can1[0])[0,1])\n",
    "print(\"PC2: %.2f\" % np.corrcoef(PC2[2:32],can2[0])[0,1])\n",
    "print(\"PC3: %.2f\" % np.corrcoef(PC3[2:32],can3[0])[0,1])\n",
    "\n",
    "gem1 = pd.read_csv(\"../GEM-NEMO/PC1.txt\",header=None)\n",
    "gem2 = pd.read_csv(\"../GEM-NEMO/PC2.txt\",header=None)\n",
    "gem3 = pd.read_csv(\"../GEM-NEMO/PC3.txt\",header=None)\n",
    "print(\"PC1: %.2f\" % np.corrcoef(PC1[2:32],gem1[0])[0,1])\n",
    "print(\"PC2: %.2f\" % np.corrcoef(PC2[2:32],gem2[0])[0,1])\n",
    "print(\"PC3: %.2f\" % np.corrcoef(PC3[2:32],gem3[0])[0,1])"
   ]
  },
  {
   "cell_type": "code",
   "execution_count": 7,
   "metadata": {},
   "outputs": [
    {
     "name": "stdout",
     "output_type": "stream",
     "text": [
      "(30, 1)\n",
      "(30, 1)\n",
      "PC1: 0.12\n",
      "PC2: 0.11\n",
      "PC3: -0.25\n",
      "PC1: 0.14\n",
      "PC2: -0.01\n",
      "PC3: -0.47\n"
     ]
    }
   ],
   "source": [
    "obs1 = pd.read_csv(\"../data/OBS/PC1.txt\",header=None)\n",
    "obs2 = pd.read_csv(\"../data/OBS/PC2.txt\",header=None)\n",
    "obs3 = pd.read_csv(\"../data/OBS/PC3.txt\",header=None)\n",
    "\n",
    "print(\"PC1: %.2f\" % np.corrcoef(obs1[0],can1[0])[0,1])\n",
    "print(\"PC2: %.2f\" % np.corrcoef(obs2[0],can2[0])[0,1])\n",
    "print(\"PC3: %.2f\" % np.corrcoef(obs3[0],can3[0])[0,1])\n",
    "\n",
    "print(\"PC1: %.2f\" % np.corrcoef(obs1[0],gem1[0])[0,1])\n",
    "print(\"PC2: %.2f\" % np.corrcoef(obs2[0],gem2[0])[0,1])\n",
    "print(\"PC3: %.2f\" % np.corrcoef(obs3[0],gem3[0])[0,1])"
   ]
  },
  {
   "cell_type": "code",
   "execution_count": null,
   "metadata": {},
   "outputs": [],
   "source": []
  }
 ],
 "metadata": {
  "kernelspec": {
   "display_name": "Python 3",
   "language": "python",
   "name": "python3"
  },
  "language_info": {
   "codemirror_mode": {
    "name": "ipython",
    "version": 3
   },
   "file_extension": ".py",
   "mimetype": "text/x-python",
   "name": "python",
   "nbconvert_exporter": "python",
   "pygments_lexer": "ipython3",
   "version": "3.7.3"
  }
 },
 "nbformat": 4,
 "nbformat_minor": 2
}

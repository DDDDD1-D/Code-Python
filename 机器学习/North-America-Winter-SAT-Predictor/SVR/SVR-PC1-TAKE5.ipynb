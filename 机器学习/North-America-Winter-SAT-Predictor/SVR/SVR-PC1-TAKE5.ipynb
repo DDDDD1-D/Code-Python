{
 "cells": [
  {
   "cell_type": "code",
   "execution_count": 1,
   "metadata": {},
   "outputs": [],
   "source": [
    "import sys\n",
    "import py_compile\n",
    "import pandas as pd\n",
    "import numpy as np\n",
    "\n",
    "sys.path.append(r\"../\")\n",
    "py_compile.compile(\"../utility.py\")\n",
    "from utility import rmse\n",
    "\n",
    "from sklearn import svm\n",
    "from sklearn.model_selection import GridSearchCV"
   ]
  },
  {
   "cell_type": "code",
   "execution_count": 2,
   "metadata": {},
   "outputs": [
    {
     "name": "stdout",
     "output_type": "stream",
     "text": [
      "This is the 0 training\n",
      "This is the 5 training\n",
      "This is the 10 training\n",
      "This is the 15 training\n",
      "This is the 20 training\n",
      "This is the 25 training\n",
      "This is the 30 training\n",
      "This is the 35 training\n"
     ]
    }
   ],
   "source": [
    "exclude = ['PC1', 'AO', 'NAO', 'nina3.4','nina3','nina4','nina1+2','GlobeSST']\n",
    "\n",
    "df = pd.read_csv(\"../data/PC1-input.csv\")\n",
    "\n",
    "features = [feature for feature in list(df.keys()) if feature not in exclude]\n",
    "target = ['PC1']\n",
    "\n",
    "predPC = []\n",
    "obsPC = []\n",
    "\n",
    "takeout = 5\n",
    "\n",
    "for year in range(0,40,takeout):\n",
    "    year2 = range(year,year+takeout)\n",
    "    idx = [line for line in range(0,40) if line not in year2]\n",
    "    \n",
    "    train_df = df.iloc[idx][features]\n",
    "    train_target = df.iloc[idx][target]\n",
    "    test_df = df.iloc[year2][features] \n",
    "    test_target = df.iloc[year2][target] \n",
    "\n",
    "    param = {'C':range(1,100,1), 'gamma':np.logspace(-3,1,20)}\n",
    "    svr = svm.SVR(kernel='rbf')\n",
    "    clf = GridSearchCV(svr, param_grid=param, cv=5, n_jobs=-1)\n",
    "    clf.fit(train_df,train_target.values.ravel())\n",
    "    \n",
    "    pred = clf.predict(test_df)\n",
    "\n",
    "    tmp2 = [x[0] for x in test_target[target].values]\n",
    "\n",
    "    predPC.extend(pred)\n",
    "    obsPC.extend(tmp2)\n",
    " \n",
    "    print(\"This is the %i training\" % year)\n",
    "\n",
    "predPC = np.array(predPC)\n",
    "obsPC = np.array(obsPC)"
   ]
  },
  {
   "cell_type": "code",
   "execution_count": 3,
   "metadata": {},
   "outputs": [
    {
     "name": "stdout",
     "output_type": "stream",
     "text": [
      "RMSE of pred: 22.74\n",
      "CORR of pred: 0.681786\n"
     ]
    }
   ],
   "source": [
    "print(\"RMSE of pred: %.2f\" % rmse(predPC,obsPC))\n",
    "print(\"CORR of pred: %f\" % np.corrcoef(predPC,obsPC)[0,1])"
   ]
  },
  {
   "cell_type": "code",
   "execution_count": 4,
   "metadata": {},
   "outputs": [
    {
     "data": {
      "text/plain": [
       "<Figure size 640x480 with 1 Axes>"
      ]
     },
     "metadata": {},
     "output_type": "display_data"
    }
   ],
   "source": [
    "import matplotlib.pyplot as plt\n",
    "xx = [x for x in range(1979,2019)]\n",
    "plt.plot(xx, predPC, color='green', label='pred')\n",
    "plt.plot(xx, obsPC, color='red', label='obs')\n",
    "plt.legend()\n",
    "plt.show()"
   ]
  },
  {
   "cell_type": "code",
   "execution_count": 5,
   "metadata": {},
   "outputs": [],
   "source": [
    "oo = pd.DataFrame(predPC)\n",
    "oo.to_csv('SVR-PC1-TAKE'+str(takeout)+'.txt',header=0,index=0)"
   ]
  }
 ],
 "metadata": {
  "kernelspec": {
   "display_name": "Python 3",
   "language": "python",
   "name": "python3"
  },
  "language_info": {
   "codemirror_mode": {
    "name": "ipython",
    "version": 3
   },
   "file_extension": ".py",
   "mimetype": "text/x-python",
   "name": "python",
   "nbconvert_exporter": "python",
   "pygments_lexer": "ipython3",
   "version": "3.7.3"
  }
 },
 "nbformat": 4,
 "nbformat_minor": 2
}

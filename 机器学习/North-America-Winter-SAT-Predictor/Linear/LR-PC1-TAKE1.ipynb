{
 "cells": [
  {
   "cell_type": "code",
   "execution_count": 1,
   "metadata": {},
   "outputs": [],
   "source": [
    "import sys\n",
    "import py_compile\n",
    "import pandas as pd\n",
    "import numpy as np\n",
    "\n",
    "sys.path.append(r\"../\")\n",
    "py_compile.compile(\"../utility.py\")\n",
    "from utility import rmse\n",
    "\n",
    "from sklearn.linear_model import LinearRegression\n",
    "from sklearn.model_selection import train_test_split \n",
    "from sklearn import model_selection as ms"
   ]
  },
  {
   "cell_type": "code",
   "execution_count": 2,
   "metadata": {},
   "outputs": [
    {
     "name": "stdout",
     "output_type": "stream",
     "text": [
      "This is the 0 training\n",
      "This is the 1 training\n",
      "This is the 2 training\n",
      "This is the 3 training\n",
      "This is the 4 training\n",
      "This is the 5 training\n",
      "This is the 6 training\n",
      "This is the 7 training\n",
      "This is the 8 training\n",
      "This is the 9 training\n",
      "This is the 10 training\n",
      "This is the 11 training\n",
      "This is the 12 training\n",
      "This is the 13 training\n",
      "This is the 14 training\n",
      "This is the 15 training\n",
      "This is the 16 training\n",
      "This is the 17 training\n",
      "This is the 18 training\n",
      "This is the 19 training\n",
      "This is the 20 training\n",
      "This is the 21 training\n",
      "This is the 22 training\n",
      "This is the 23 training\n",
      "This is the 24 training\n",
      "This is the 25 training\n",
      "This is the 26 training\n",
      "This is the 27 training\n",
      "This is the 28 training\n",
      "This is the 29 training\n",
      "This is the 30 training\n",
      "This is the 31 training\n",
      "This is the 32 training\n",
      "This is the 33 training\n",
      "This is the 34 training\n",
      "This is the 35 training\n",
      "This is the 36 training\n",
      "This is the 37 training\n",
      "This is the 38 training\n",
      "This is the 39 training\n"
     ]
    }
   ],
   "source": [
    "exclude = ['PC1', 'AO', 'NAO', 'nina3.4','nina3','nina4','nina1+2','GlobeSST']\n",
    "\n",
    "df = pd.read_csv(\"../data/PC1-input.csv\")\n",
    "\n",
    "features = [feature for feature in list(df.keys()) if feature not in exclude]\n",
    "target = ['PC1']\n",
    "\n",
    "predPC = []\n",
    "obsPC = []\n",
    "\n",
    "for year in range(0,40):\n",
    "    idx = [line for line in range(0,40) if line != year]\n",
    "    train_df = df.iloc[idx][features]\n",
    "    train_target = df.iloc[idx][target]\n",
    "    test_df = np.reshape(df.iloc[year][features].values,(1,len(features)))\n",
    "    test_target = np.reshape(df.iloc[year][target].values,[1,1])\n",
    "    \n",
    "    model = LinearRegression(normalize=True)\n",
    "    model.fit(train_df,train_target)\n",
    "    \n",
    "    pred = model.predict(test_df)\n",
    "    \n",
    "    predPC.append(pred[0][0])\n",
    "    obsPC.append(test_target[0][0])\n",
    "    \n",
    "    print(\"This is the %i training\" % year)\n",
    "\n",
    "predPC = np.array(predPC)\n",
    "obsPC = np.array(obsPC)"
   ]
  },
  {
   "cell_type": "code",
   "execution_count": 3,
   "metadata": {},
   "outputs": [
    {
     "name": "stdout",
     "output_type": "stream",
     "text": [
      "RMSE of pred: 28.24\n",
      "CORR of pred: 0.456038\n"
     ]
    }
   ],
   "source": [
    "print(\"RMSE of pred: %.2f\" % rmse(predPC,obsPC))\n",
    "print(\"CORR of pred: %f\" % np.corrcoef(predPC,obsPC)[0,1])"
   ]
  },
  {
   "cell_type": "code",
   "execution_count": 4,
   "metadata": {},
   "outputs": [
    {
     "data": {
      "text/plain": [
       "<Figure size 640x480 with 1 Axes>"
      ]
     },
     "metadata": {},
     "output_type": "display_data"
    }
   ],
   "source": [
    "import matplotlib.pyplot as plt\n",
    "xx = [x for x in range(1979,2019)]\n",
    "plt.plot(xx, predPC, color='green', label='pred')\n",
    "plt.plot(xx, obsPC, color='red', label='obs')\n",
    "plt.legend()\n",
    "plt.show()"
   ]
  },
  {
   "cell_type": "code",
   "execution_count": 5,
   "metadata": {},
   "outputs": [],
   "source": [
    "oo = pd.DataFrame(predPC)\n",
    "oo.to_csv('LR-PC1-TAKE1.txt',header=0,index=0)"
   ]
  },
  {
   "cell_type": "code",
   "execution_count": null,
   "metadata": {},
   "outputs": [],
   "source": []
  }
 ],
 "metadata": {
  "kernelspec": {
   "display_name": "Python 3",
   "language": "python",
   "name": "python3"
  },
  "language_info": {
   "codemirror_mode": {
    "name": "ipython",
    "version": 3
   },
   "file_extension": ".py",
   "mimetype": "text/x-python",
   "name": "python",
   "nbconvert_exporter": "python",
   "pygments_lexer": "ipython3",
   "version": "3.7.1"
  }
 },
 "nbformat": 4,
 "nbformat_minor": 2
}

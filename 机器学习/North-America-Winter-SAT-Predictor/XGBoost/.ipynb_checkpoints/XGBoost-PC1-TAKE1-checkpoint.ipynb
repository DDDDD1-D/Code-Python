{
 "cells": [
  {
   "cell_type": "code",
   "execution_count": 1,
   "metadata": {},
   "outputs": [],
   "source": [
    "import sys\n",
    "import py_compile\n",
    "import pandas as pd\n",
    "import xgboost as xgb\n",
    "import numpy as np\n",
    "\n",
    "sys.path.append(r\"../\")\n",
    "py_compile.compile(\"../utility.py\")\n",
    "from utility import rmse\n",
    "from sklearn.model_selection import train_test_split "
   ]
  },
  {
   "cell_type": "code",
   "execution_count": 2,
   "metadata": {},
   "outputs": [
    {
     "name": "stderr",
     "output_type": "stream",
     "text": [
      "/var/opt/anaconda3/lib/python3.7/site-packages/xgboost/core.py:587: FutureWarning: Series.base is deprecated and will be removed in a future version\n",
      "  if getattr(data, 'base', None) is not None and \\\n"
     ]
    },
    {
     "name": "stdout",
     "output_type": "stream",
     "text": [
      "This is the 0 training\n",
      "This is the 1 training\n",
      "This is the 2 training\n",
      "This is the 3 training\n",
      "This is the 4 training\n",
      "This is the 5 training\n",
      "This is the 6 training\n",
      "This is the 7 training\n",
      "This is the 8 training\n",
      "This is the 9 training\n",
      "This is the 10 training\n",
      "This is the 11 training\n",
      "This is the 12 training\n",
      "This is the 13 training\n",
      "This is the 14 training\n",
      "This is the 15 training\n",
      "This is the 16 training\n",
      "This is the 17 training\n",
      "This is the 18 training\n",
      "This is the 19 training\n",
      "This is the 20 training\n",
      "This is the 21 training\n",
      "This is the 22 training\n",
      "This is the 23 training\n",
      "This is the 24 training\n",
      "This is the 25 training\n",
      "This is the 26 training\n",
      "This is the 27 training\n",
      "This is the 28 training\n",
      "This is the 29 training\n",
      "This is the 30 training\n",
      "This is the 31 training\n",
      "This is the 32 training\n",
      "This is the 33 training\n",
      "This is the 34 training\n",
      "This is the 35 training\n",
      "This is the 36 training\n",
      "This is the 37 training\n",
      "This is the 38 training\n",
      "This is the 39 training\n"
     ]
    }
   ],
   "source": [
    "exclude = ['PC1', 'AO', 'NAO', 'nina3.4','nina3','nina4','nina1+2','GlobeSST']\n",
    "\n",
    "df = pd.read_csv(\"../data/PC1-input.csv\")\n",
    "\n",
    "features = [feature for feature in list(df.keys()) if feature not in exclude]\n",
    "target = ['PC1']\n",
    "\n",
    "predPC = []\n",
    "obsPC = []\n",
    "\n",
    "for year in range(0,40):\n",
    "    idx = [line for line in range(0,40) if line != year]\n",
    "    train_df = df.iloc[idx][features]\n",
    "    train_target = df.iloc[idx][target]\n",
    "    test_df = df.iloc[year][features]\n",
    "    test_target = df.iloc[year][target]\n",
    "    \n",
    "    param = {'nthread':6, #when use hyperthread, xgboost may become slower\n",
    "              'learning_rate': 0.01, #so called `eta` value\n",
    "              'max_depth': 10,\n",
    "              'min_child_weight': 0.1, #5\n",
    "              'silent': 1,\n",
    "              'subsample': 0.1,\n",
    "              'colsample_bytree': 1.0,\n",
    "              'n_estimators': 3000}\n",
    "\n",
    "    dtrain = xgb.DMatrix(train_df, label=train_target, feature_names=features)\n",
    "    dtest  = xgb.DMatrix(test_df, label=test_target, feature_names=features)\n",
    "    \n",
    "    \n",
    "    \n",
    "    cv_res= xgb.cv(param,dtrain,num_boost_round=6000,early_stopping_rounds=300,nfold=3, metrics='rmse',show_stdv=False)\n",
    "\n",
    "    bst = xgb.train(param,dtrain,num_boost_round=cv_res.shape[0])\n",
    "    pred = bst.predict(dtest)\n",
    "    \n",
    "    predPC.append(pred[0])\n",
    "    obsPC.append(test_target.values[0])\n",
    "    print(\"This is the %i training\" % year)\n",
    "\n",
    "predPC = np.array(predPC)\n",
    "obsPC = np.array(obsPC)"
   ]
  },
  {
   "cell_type": "code",
   "execution_count": 3,
   "metadata": {},
   "outputs": [
    {
     "name": "stdout",
     "output_type": "stream",
     "text": [
      "RMSE of pred: 26.27\n",
      "CORR of pred: 0.510320\n"
     ]
    }
   ],
   "source": [
    "print(\"RMSE of pred: %.2f\" % rmse(predPC,obsPC))\n",
    "print(\"CORR of pred: %f\" % np.corrcoef(predPC,obsPC)[0,1])"
   ]
  },
  {
   "cell_type": "code",
   "execution_count": 4,
   "metadata": {},
   "outputs": [
    {
     "data": {
      "text/plain": [
       "<Figure size 640x480 with 1 Axes>"
      ]
     },
     "metadata": {},
     "output_type": "display_data"
    }
   ],
   "source": [
    "import matplotlib.pyplot as plt\n",
    "xx = [x for x in range(1979,2019)]\n",
    "plt.plot(xx, predPC, color='green', label='pred')\n",
    "plt.plot(xx, obsPC, color='red', label='obs')\n",
    "plt.legend()\n",
    "plt.show()"
   ]
  },
  {
   "cell_type": "code",
   "execution_count": 5,
   "metadata": {},
   "outputs": [],
   "source": [
    "oo = pd.DataFrame(predPC)\n",
    "oo.to_csv('XGBoost-PC1-TAKE1.txt',header=0,index=0)"
   ]
  },
  {
   "cell_type": "code",
   "execution_count": null,
   "metadata": {},
   "outputs": [],
   "source": []
  }
 ],
 "metadata": {
  "kernelspec": {
   "display_name": "Python 3",
   "language": "python",
   "name": "python3"
  },
  "language_info": {
   "codemirror_mode": {
    "name": "ipython",
    "version": 3
   },
   "file_extension": ".py",
   "mimetype": "text/x-python",
   "name": "python",
   "nbconvert_exporter": "python",
   "pygments_lexer": "ipython3",
   "version": "3.7.3"
  }
 },
 "nbformat": 4,
 "nbformat_minor": 2
}

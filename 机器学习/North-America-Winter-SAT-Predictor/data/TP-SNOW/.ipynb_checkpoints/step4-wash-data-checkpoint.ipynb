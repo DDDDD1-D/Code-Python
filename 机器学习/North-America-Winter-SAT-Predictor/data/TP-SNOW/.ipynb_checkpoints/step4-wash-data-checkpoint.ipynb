{
 "cells": [
  {
   "cell_type": "code",
   "execution_count": 2,
   "metadata": {},
   "outputs": [],
   "source": [
    "import netCDF4\n",
    "import numpy as np\n",
    "import pandas as pd\n",
    "from netCDF4 import Dataset\n",
    "from sklearn.preprocessing import Normalizer, StandardScaler, MinMaxScaler\n",
    "\n",
    "# read data\n",
    "f = Dataset('./snow.nc')\n",
    "snow = f.variables['snow'][:]\n",
    "nt, nlat, nlon = np.shape(snow)\n",
    "\n",
    "# reshape \n",
    "snow = np.reshape(snow, (nt,nlat*nlon))\n",
    "\n",
    "# normalize\n",
    "#norm1 = Normalizer()\n",
    "#norm2 = Normalizer()\n",
    "#norm1 = StandardScaler()\n",
    "#norm2 = StandardScaler()\n",
    "norm1 = MinMaxScaler()\n",
    "norm2 = MinMaxScaler()\n",
    "\n",
    "# drop some useless data\n",
    "#drops_idx = []\n",
    "#cnt_cols = [c for c in df.columns if df[c].nunique() <= 40]\n",
    "#df.drop(cnt_cols,axis=1,inplace=True)\n",
    "#drops_idx.extend(cnt_cols)\n",
    "#print(cnt_cols)\n",
    "\n",
    "#pd.DataFrame(snow[0:300]).to_csv('./train.csv', index=None)\n",
    "#pd.DataFrame(snow[300:]).to_csv('./test.csv', index=None)\n",
    "\n",
    "pd.DataFrame(norm1.fit_transform(snow[0:300])).to_csv('./train.csv', index=None)\n",
    "pd.DataFrame(norm2.fit_transform(snow[300:])).to_csv('./test.csv', index=None)\n",
    "pd.DataFrame(snow[0:300]).to_csv('./train_ori.csv', index=None)\n",
    "pd.DataFrame(snow[300:]).to_csv('./test_ori.csv', index=None)"
   ]
  },
  {
   "cell_type": "code",
   "execution_count": null,
   "metadata": {},
   "outputs": [],
   "source": []
  }
 ],
 "metadata": {
  "kernelspec": {
   "display_name": "Python 3",
   "language": "python",
   "name": "python3"
  },
  "language_info": {
   "codemirror_mode": {
    "name": "ipython",
    "version": 3
   },
   "file_extension": ".py",
   "mimetype": "text/x-python",
   "name": "python",
   "nbconvert_exporter": "python",
   "pygments_lexer": "ipython3",
   "version": "3.7.3"
  }
 },
 "nbformat": 4,
 "nbformat_minor": 2
}

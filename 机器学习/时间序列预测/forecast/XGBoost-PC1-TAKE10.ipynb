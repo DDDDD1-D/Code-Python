{
 "cells": [
  {
   "cell_type": "code",
   "execution_count": 1,
   "metadata": {},
   "outputs": [],
   "source": [
    "import sys\n",
    "import py_compile\n",
    "import pandas as pd\n",
    "import xgboost as xgb\n",
    "import numpy as np\n",
    "\n",
    "sys.path.append(r\"../\")\n",
    "py_compile.compile(\"../utility.py\")\n",
    "from utility import rmse\n",
    "from sklearn.model_selection import train_test_split "
   ]
  },
  {
   "cell_type": "code",
   "execution_count": 2,
   "metadata": {},
   "outputs": [
    {
     "name": "stdout",
     "output_type": "stream",
     "text": [
      "[-14.396939   -3.9179583 -25.205954  -31.84151    -1.8778994 -12.956432\n",
      " -27.117989 ]\n"
     ]
    }
   ],
   "source": [
    "exclude = ['PC1', 'AO', 'NAO', 'nina3.4','nina3','nina4','nina1+2','GlobeSST']\n",
    "\n",
    "df = pd.read_csv(\"../data/PC1-input.csv\")\n",
    "\n",
    "features = [feature for feature in list(df.keys()) if feature not in exclude]\n",
    "target = ['PC1']\n",
    "\n",
    "predPC = []\n",
    "obsPC = []\n",
    "\n",
    "idx = [line for line in range(0,32)]\n",
    "idxx = [line for line in range(32,39)]\n",
    "train_df = df.iloc[idx][features]\n",
    "train_target = df.iloc[idx][target]\n",
    "test_df = df.iloc[idxx][features]\n",
    "test_target = df.iloc[idxx][target]\n",
    "    \n",
    "param = {'nthread':6, #when use hyperthread, xgboost may become slower\n",
    "              'learning_rate': 0.01, #so called `eta` value\n",
    "              'max_depth': 10,\n",
    "              'min_child_weight': 1, #5\n",
    "              'silent': 1,\n",
    "              'subsample': 0.1,\n",
    "              'colsample_bytree': 1.0,\n",
    "              'n_estimators': 3000}\n",
    "\n",
    "dtrain = xgb.DMatrix(train_df, label=train_target, feature_names=features)\n",
    "dtest  = xgb.DMatrix(test_df, label=test_target, feature_names=features)\n",
    "    \n",
    "    \n",
    "    \n",
    "cv_res= xgb.cv(param,dtrain,num_boost_round=6000,early_stopping_rounds=3000,nfold=4, metrics='rmse',show_stdv=False)\n",
    "\n",
    "bst = xgb.train(param,dtrain,num_boost_round=cv_res.shape[0])\n",
    "pred = bst.predict(dtest)\n",
    "    \n",
    "print(pred)\n",
    "\n",
    "oo = pd.DataFrame(pred)\n",
    "oo.to_csv('XGBoost-PC1.txt',header=0,index=0)"
   ]
  },
  {
   "cell_type": "code",
   "execution_count": null,
   "metadata": {},
   "outputs": [],
   "source": []
  }
 ],
 "metadata": {
  "kernelspec": {
   "display_name": "Python 3",
   "language": "python",
   "name": "python3"
  },
  "language_info": {
   "codemirror_mode": {
    "name": "ipython",
    "version": 3
   },
   "file_extension": ".py",
   "mimetype": "text/x-python",
   "name": "python",
   "nbconvert_exporter": "python",
   "pygments_lexer": "ipython3",
   "version": "3.7.3"
  }
 },
 "nbformat": 4,
 "nbformat_minor": 2
}

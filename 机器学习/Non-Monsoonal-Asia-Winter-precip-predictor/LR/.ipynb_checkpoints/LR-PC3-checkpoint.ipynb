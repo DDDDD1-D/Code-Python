{
 "cells": [
  {
   "cell_type": "code",
   "execution_count": 1,
   "metadata": {},
   "outputs": [],
   "source": [
    "import sys\n",
    "import py_compile\n",
    "import pandas as pd\n",
    "import numpy as np\n",
    "\n",
    "sys.path.append(r\"../\")\n",
    "py_compile.compile(\"../utility.py\")\n",
    "from utility import rmse\n",
    "\n",
    "from sklearn.linear_model import LinearRegression\n",
    "from sklearn.model_selection import train_test_split \n",
    "from sklearn import model_selection as ms"
   ]
  },
  {
   "cell_type": "code",
   "execution_count": 2,
   "metadata": {},
   "outputs": [
    {
     "name": "stdout",
     "output_type": "stream",
     "text": [
      "[[-1010.85068606]\n",
      " [ -213.22611706]\n",
      " [ -582.41982488]\n",
      " [ -369.51997926]\n",
      " [  348.21272929]\n",
      " [  180.90996151]\n",
      " [ -104.14502867]\n",
      " [ -854.50323813]]\n"
     ]
    }
   ],
   "source": [
    "exclude = ['PC', 'SC-NA', 'SST-Indian', 'AO', 'NAO', 'PNA', 'nina3.4', 'nina1+2', 'nina3', 'nina4']\n",
    "\n",
    "df = pd.read_csv(\"../feature-prepare/input-PC3.csv\")\n",
    "\n",
    "features = [feature for feature in list(df.keys()) if feature not in exclude]\n",
    "target = ['PC']\n",
    "\n",
    "predPC = []\n",
    "obsPC = []\n",
    "\n",
    "idx = [line for line in range(0,32)]\n",
    "idxx = [line for line in range(32,40)]\n",
    "train_df = df.iloc[idx][features]\n",
    "train_target = df.iloc[idx][target]\n",
    "test_df = df.iloc[idxx][features]\n",
    "    \n",
    "model = LinearRegression(normalize=True)\n",
    "model.fit(train_df,train_target)\n",
    "    \n",
    "pred = model.predict(test_df)\n",
    "print(pred)\n",
    "\n",
    "oo = pd.DataFrame(pred)\n",
    "oo.to_csv('PC3.txt',header=0,index=0)"
   ]
  },
  {
   "cell_type": "code",
   "execution_count": 3,
   "metadata": {},
   "outputs": [
    {
     "data": {
      "text/plain": [
       "array([[ 113.3489054 ,  124.08060611, -382.90878229,   48.70280031,\n",
       "        -234.68249708,  160.21751771]])"
      ]
     },
     "execution_count": 3,
     "metadata": {},
     "output_type": "execute_result"
    }
   ],
   "source": [
    "model.coef_"
   ]
  }
 ],
 "metadata": {
  "kernelspec": {
   "display_name": "Python 3",
   "language": "python",
   "name": "python3"
  },
  "language_info": {
   "codemirror_mode": {
    "name": "ipython",
    "version": 3
   },
   "file_extension": ".py",
   "mimetype": "text/x-python",
   "name": "python",
   "nbconvert_exporter": "python",
   "pygments_lexer": "ipython3",
   "version": "3.8.3"
  }
 },
 "nbformat": 4,
 "nbformat_minor": 4
}

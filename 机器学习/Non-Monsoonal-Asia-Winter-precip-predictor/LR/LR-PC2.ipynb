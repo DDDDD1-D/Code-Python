{
 "cells": [
  {
   "cell_type": "code",
   "execution_count": 1,
   "metadata": {},
   "outputs": [],
   "source": [
    "import sys\n",
    "import py_compile\n",
    "import pandas as pd\n",
    "import numpy as np\n",
    "\n",
    "sys.path.append(r\"../\")\n",
    "py_compile.compile(\"../utility.py\")\n",
    "from utility import rmse\n",
    "\n",
    "from sklearn.linear_model import LinearRegression\n",
    "from sklearn.model_selection import train_test_split \n",
    "from sklearn import model_selection as ms"
   ]
  },
  {
   "cell_type": "code",
   "execution_count": 2,
   "metadata": {},
   "outputs": [
    {
     "name": "stdout",
     "output_type": "stream",
     "text": [
      "[[1020.34932382]\n",
      " [ 193.78216646]\n",
      " [-773.88811022]\n",
      " [-161.87020411]\n",
      " [ 523.51135787]\n",
      " [ 918.45625198]\n",
      " [ 434.00896739]\n",
      " [ 398.79212277]]\n"
     ]
    }
   ],
   "source": [
    "exclude = ['PC', 'SC-TP', 'SST-Indian', 'SST-Pacific', 'AO', 'NAO', 'PNA', 'nina3.4', 'nina1+2', 'nina3', 'nina4']\n",
    "\n",
    "df = pd.read_csv(\"../feature-prepare/input-PC2.csv\")\n",
    "\n",
    "features = [feature for feature in list(df.keys()) if feature not in exclude]\n",
    "target = ['PC']\n",
    "\n",
    "predPC = []\n",
    "obsPC = []\n",
    "\n",
    "idx = [line for line in range(0,32)]\n",
    "idxx = [line for line in range(32,40)]\n",
    "train_df = df.iloc[idx][features]\n",
    "train_target = df.iloc[idx][target]\n",
    "test_df = df.iloc[idxx][features]\n",
    "    \n",
    "model = LinearRegression(normalize=True)\n",
    "model.fit(train_df,train_target)\n",
    "    \n",
    "pred = model.predict(test_df)\n",
    "print(pred)\n",
    "\n",
    "oo = pd.DataFrame(pred)\n",
    "oo.to_csv('PC2.txt',header=0,index=0)"
   ]
  },
  {
   "cell_type": "code",
   "execution_count": 3,
   "metadata": {},
   "outputs": [
    {
     "data": {
      "text/plain": [
       "array([[  71.89182194,  566.3004375 , -403.03508429, -235.38151028,\n",
       "         329.72947304]])"
      ]
     },
     "execution_count": 3,
     "metadata": {},
     "output_type": "execute_result"
    }
   ],
   "source": [
    "model.coef_"
   ]
  }
 ],
 "metadata": {
  "kernelspec": {
   "display_name": "Python 3",
   "language": "python",
   "name": "python3"
  },
  "language_info": {
   "codemirror_mode": {
    "name": "ipython",
    "version": 3
   },
   "file_extension": ".py",
   "mimetype": "text/x-python",
   "name": "python",
   "nbconvert_exporter": "python",
   "pygments_lexer": "ipython3",
   "version": "3.8.3"
  }
 },
 "nbformat": 4,
 "nbformat_minor": 4
}

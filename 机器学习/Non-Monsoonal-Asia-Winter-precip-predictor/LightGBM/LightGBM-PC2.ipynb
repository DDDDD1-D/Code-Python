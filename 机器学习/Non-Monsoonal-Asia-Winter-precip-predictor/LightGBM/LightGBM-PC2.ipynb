{
 "cells": [
  {
   "cell_type": "code",
   "execution_count": 1,
   "metadata": {},
   "outputs": [],
   "source": [
    "import sys\n",
    "import py_compile\n",
    "import pandas as pd\n",
    "import numpy as np\n",
    "import lightgbm as lgb\n",
    "\n",
    "sys.path.append(r\"../\")\n",
    "py_compile.compile(\"../utility.py\")\n",
    "from utility import rmse\n",
    "from sklearn.model_selection import train_test_split "
   ]
  },
  {
   "cell_type": "code",
   "execution_count": 2,
   "metadata": {},
   "outputs": [
    {
     "name": "stdout",
     "output_type": "stream",
     "text": [
      "[LightGBM] [Warning] Auto-choosing col-wise multi-threading, the overhead of testing was 0.000203 seconds.\n",
      "You can set `force_col_wise=true` to remove the overhead.\n"
     ]
    }
   ],
   "source": [
    "exclude = ['PC', 'SC-TP', 'SST-Indian', 'SST-Pacific', 'AO', 'NAO', 'PNA', 'nina3.4', 'nina1+2', 'nina3', 'nina4']\n",
    "\n",
    "df = pd.read_csv(\"../feature-prepare/input-PC2.csv\")\n",
    "\n",
    "features = [feature for feature in list(df.keys()) if feature not in exclude]\n",
    "target = ['PC']\n",
    "\n",
    "predPC = []\n",
    "obsPC = []\n",
    "\n",
    "idx = [line for line in range(0,32)]\n",
    "idxx = [line for line in range(32,40)]\n",
    "train_df = df.iloc[idx][features]\n",
    "train_target = df.iloc[idx][target]\n",
    "test_df = df.iloc[idxx][features]\n",
    "test_target = df.iloc[idxx][target]\n",
    "\n",
    "params = {'num_leaves': 5,\n",
    "          'min_data_in_leaf':1,\n",
    "          'objective': 'regression',\n",
    "          'learning_rate': 0.01,\n",
    "          \"boosting\": \"gbdt\",\n",
    "          \"feature_fraction\": 0.9,\n",
    "          \"verbosity\": 0,\n",
    "          \"lambda_l2\": 15,\n",
    "          'metric': 'mape'\n",
    "          }\n",
    "\n",
    "\n",
    "dtrain = lgb.Dataset(train_df, train_target)\n",
    "#dtest = lgb.Dataset(test_df, label=test_target)\n",
    "\n",
    "clf = lgb.train(params,\n",
    "                dtrain,\n",
    "               )\n",
    "                    #num_round,\n",
    "                    #valid_sets=[dtrain, train_target],\n",
    "                    #verbose_eval=200,\n",
    "                    #early_stopping_rounds=200)\n",
    "\n",
    "pred = clf.predict(test_df)\n",
    "\n",
    "oo = pd.DataFrame(pred)\n",
    "oo.to_csv('PC2.txt',header=0,index=0)"
   ]
  },
  {
   "cell_type": "code",
   "execution_count": 3,
   "metadata": {},
   "outputs": [
    {
     "data": {
      "text/plain": [
       "array([ 25, 129,  29, 100, 117], dtype=int32)"
      ]
     },
     "execution_count": 3,
     "metadata": {},
     "output_type": "execute_result"
    }
   ],
   "source": [
    "clf.feature_importance()"
   ]
  },
  {
   "cell_type": "code",
   "execution_count": 4,
   "metadata": {},
   "outputs": [
    {
     "data": {
      "text/plain": [
       "['SIC', 'SC-EU', 'SC-NA', 'SST-Atlantic', 'Z70']"
      ]
     },
     "execution_count": 4,
     "metadata": {},
     "output_type": "execute_result"
    }
   ],
   "source": [
    "features"
   ]
  }
 ],
 "metadata": {
  "kernelspec": {
   "display_name": "Python 3",
   "language": "python",
   "name": "python3"
  },
  "language_info": {
   "codemirror_mode": {
    "name": "ipython",
    "version": 3
   },
   "file_extension": ".py",
   "mimetype": "text/x-python",
   "name": "python",
   "nbconvert_exporter": "python",
   "pygments_lexer": "ipython3",
   "version": "3.8.3"
  }
 },
 "nbformat": 4,
 "nbformat_minor": 4
}

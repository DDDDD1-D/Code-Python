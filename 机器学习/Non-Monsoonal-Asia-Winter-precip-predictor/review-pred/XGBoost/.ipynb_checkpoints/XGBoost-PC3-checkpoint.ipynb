{
 "cells": [
  {
   "cell_type": "code",
   "execution_count": 1,
   "metadata": {},
   "outputs": [],
   "source": [
    "import sys\n",
    "import py_compile\n",
    "import pandas as pd\n",
    "import xgboost as xgb\n",
    "import numpy as np\n",
    "\n",
    "sys.path.append(r\"../\")\n",
    "py_compile.compile(\"../utility.py\")\n",
    "from utility import rmse\n",
    "from sklearn.model_selection import train_test_split "
   ]
  },
  {
   "cell_type": "code",
   "execution_count": 2,
   "metadata": {},
   "outputs": [
    {
     "name": "stdout",
     "output_type": "stream",
     "text": [
      "[20:55:55] WARNING: ../src/learner.cc:541: \n",
      "Parameters: { n_estimators, silent } might not be used.\n",
      "\n",
      "  This may not be accurate due to some parameters are only used in language bindings but\n",
      "  passed down to XGBoost core.  Or some parameters are not used but slip through this\n",
      "  verification. Please open an issue if you find above cases.\n",
      "\n",
      "\n",
      "[20:55:55] WARNING: ../src/learner.cc:541: \n",
      "Parameters: { n_estimators, silent } might not be used.\n",
      "\n",
      "  This may not be accurate due to some parameters are only used in language bindings but\n",
      "  passed down to XGBoost core.  Or some parameters are not used but slip through this\n",
      "  verification. Please open an issue if you find above cases.\n",
      "\n",
      "\n",
      "[20:55:55] WARNING: ../src/learner.cc:541: \n",
      "Parameters: { n_estimators, silent } might not be used.\n",
      "\n",
      "  This may not be accurate due to some parameters are only used in language bindings but\n",
      "  passed down to XGBoost core.  Or some parameters are not used but slip through this\n",
      "  verification. Please open an issue if you find above cases.\n",
      "\n",
      "\n",
      "[20:55:55] WARNING: ../src/learner.cc:541: \n",
      "Parameters: { n_estimators, silent } might not be used.\n",
      "\n",
      "  This may not be accurate due to some parameters are only used in language bindings but\n",
      "  passed down to XGBoost core.  Or some parameters are not used but slip through this\n",
      "  verification. Please open an issue if you find above cases.\n",
      "\n",
      "\n",
      "[20:55:56] WARNING: ../src/learner.cc:541: \n",
      "Parameters: { n_estimators, silent } might not be used.\n",
      "\n",
      "  This may not be accurate due to some parameters are only used in language bindings but\n",
      "  passed down to XGBoost core.  Or some parameters are not used but slip through this\n",
      "  verification. Please open an issue if you find above cases.\n",
      "\n",
      "\n",
      "[-576.16486 -424.58182  -82.71754 -331.3187  -188.50331 -351.5774\n",
      " -368.8115  -438.59088 -507.48117 -256.51346]\n"
     ]
    }
   ],
   "source": [
    "exclude = ['PC', 'SC-NA', 'SST-Indian', 'AO', 'NAO', 'PNA', 'nina3.4', 'nina1+2', 'nina3', 'nina4']\n",
    "\n",
    "df = pd.read_csv(\"../feature-prepare/input-PC3.csv\")\n",
    "\n",
    "features = [feature for feature in list(df.keys()) if feature not in exclude]\n",
    "target = ['PC']\n",
    "\n",
    "predPC = []\n",
    "obsPC = []\n",
    "\n",
    "idx = [line for line in range(0,32)]\n",
    "idxx = [line for line in range(32,42)]\n",
    "train_df = df.iloc[idx][features]\n",
    "train_target = df.iloc[idx][target]\n",
    "test_df = df.iloc[idxx][features]\n",
    "test_target = df.iloc[idxx][target]\n",
    "    \n",
    "param = {'nthread':6, #when use hyperthread, xgboost may become slower\n",
    "              'learning_rate': 0.01, #so called `eta` value\n",
    "              'max_depth': 10,\n",
    "              'min_child_weight': 1, #5\n",
    "              'silent': True,\n",
    "              'subsample': 0.3,\n",
    "              'colsample_bytree': 1.0,\n",
    "              'n_estimators': 3000}\n",
    "\n",
    "dtrain = xgb.DMatrix(train_df, label=train_target, feature_names=features)\n",
    "dtest  = xgb.DMatrix(test_df, label=test_target, feature_names=features)\n",
    "    \n",
    "    \n",
    "    \n",
    "cv_res= xgb.cv(param,dtrain,num_boost_round=6000,early_stopping_rounds=3000,nfold=4, metrics='rmse',show_stdv=False)\n",
    "\n",
    "bst = xgb.train(param,dtrain,num_boost_round=cv_res.shape[0])\n",
    "pred = bst.predict(dtest)\n",
    "    \n",
    "print(pred)\n",
    "\n",
    "oo = pd.DataFrame(pred)\n",
    "oo.to_csv('PC3.txt',header=0,index=0)"
   ]
  },
  {
   "cell_type": "code",
   "execution_count": 3,
   "metadata": {},
   "outputs": [
    {
     "name": "stdout",
     "output_type": "stream",
     "text": [
      "weight:        {'SST-Pacific': 72, 'SIC': 341, 'SST-Atlantic': 79, 'SC-TP': 139, 'Z70': 69, 'SC-EU': 141}\n",
      "gain:        {'SST-Pacific': 610538.185873611, 'SIC': 360234.671931076, 'SST-Atlantic': 558872.7393034177, 'SC-TP': 763666.7283056835, 'Z70': 759961.8066123191, 'SC-EU': 418234.97173283674}\n",
      "cover:        {'SST-Pacific': 6.805555555555555, 'SIC': 4.947214076246334, 'SST-Atlantic': 7.177215189873418, 'SC-TP': 7.273381294964029, 'Z70': 8.289855072463768, 'SC-EU': 5.815602836879433}\n",
      "total_gain:        {'SST-Pacific': 43958749.38289999, 'SIC': 122840023.12849692, 'SST-Atlantic': 44150946.404970005, 'SC-TP': 106149675.23449, 'Z70': 52437364.656250015, 'SC-EU': 58971131.01432998}\n",
      "total_cover:        {'SST-Pacific': 490.0, 'SIC': 1687.0, 'SST-Atlantic': 567.0, 'SC-TP': 1011.0, 'Z70': 572.0, 'SC-EU': 820.0}\n"
     ]
    }
   ],
   "source": [
    "for impt_type in 'weight', 'gain', 'cover', 'total_gain', 'total_cover':\n",
    "    print(impt_type + \":        \" + str(bst.get_score(importance_type=impt_type)))"
   ]
  },
  {
   "cell_type": "code",
   "execution_count": null,
   "metadata": {},
   "outputs": [],
   "source": []
  }
 ],
 "metadata": {
  "kernelspec": {
   "display_name": "Python 3",
   "language": "python",
   "name": "python3"
  },
  "language_info": {
   "codemirror_mode": {
    "name": "ipython",
    "version": 3
   },
   "file_extension": ".py",
   "mimetype": "text/x-python",
   "name": "python",
   "nbconvert_exporter": "python",
   "pygments_lexer": "ipython3",
   "version": "3.8.5"
  }
 },
 "nbformat": 4,
 "nbformat_minor": 4
}

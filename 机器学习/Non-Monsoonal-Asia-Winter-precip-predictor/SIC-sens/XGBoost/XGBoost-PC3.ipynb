{
 "cells": [
  {
   "cell_type": "code",
   "execution_count": 1,
   "metadata": {},
   "outputs": [],
   "source": [
    "import sys\n",
    "import py_compile\n",
    "import pandas as pd\n",
    "import xgboost as xgb\n",
    "import numpy as np\n",
    "\n",
    "sys.path.append(r\"../../\")\n",
    "py_compile.compile(\"../../utility.py\")\n",
    "from utility import rmse\n",
    "from sklearn.model_selection import train_test_split "
   ]
  },
  {
   "cell_type": "code",
   "execution_count": 2,
   "metadata": {},
   "outputs": [
    {
     "name": "stdout",
     "output_type": "stream",
     "text": [
      "[12:33:48] WARNING: ../src/learner.cc:541: \n",
      "Parameters: { n_estimators, silent } might not be used.\n",
      "\n",
      "  This may not be accurate due to some parameters are only used in language bindings but\n",
      "  passed down to XGBoost core.  Or some parameters are not used but slip through this\n",
      "  verification. Please open an issue if you find above cases.\n",
      "\n",
      "\n",
      "[12:33:48] WARNING: ../src/learner.cc:541: \n",
      "Parameters: { n_estimators, silent } might not be used.\n",
      "\n",
      "  This may not be accurate due to some parameters are only used in language bindings but\n",
      "  passed down to XGBoost core.  Or some parameters are not used but slip through this\n",
      "  verification. Please open an issue if you find above cases.\n",
      "\n",
      "\n",
      "[12:33:48] WARNING: ../src/learner.cc:541: \n",
      "Parameters: { n_estimators, silent } might not be used.\n",
      "\n",
      "  This may not be accurate due to some parameters are only used in language bindings but\n",
      "  passed down to XGBoost core.  Or some parameters are not used but slip through this\n",
      "  verification. Please open an issue if you find above cases.\n",
      "\n",
      "\n",
      "[12:33:48] WARNING: ../src/learner.cc:541: \n",
      "Parameters: { n_estimators, silent } might not be used.\n",
      "\n",
      "  This may not be accurate due to some parameters are only used in language bindings but\n",
      "  passed down to XGBoost core.  Or some parameters are not used but slip through this\n",
      "  verification. Please open an issue if you find above cases.\n",
      "\n",
      "\n",
      "[12:33:49] WARNING: ../src/learner.cc:541: \n",
      "Parameters: { n_estimators, silent } might not be used.\n",
      "\n",
      "  This may not be accurate due to some parameters are only used in language bindings but\n",
      "  passed down to XGBoost core.  Or some parameters are not used but slip through this\n",
      "  verification. Please open an issue if you find above cases.\n",
      "\n",
      "\n",
      "[-555.416    -276.81628  -337.50543  -429.66647    80.81473  -148.2779\n",
      "  -79.7322    -51.920742]\n"
     ]
    }
   ],
   "source": [
    "exclude = ['PC', 'SC-NA', 'SST-Indian', 'AO', 'NAO', 'PNA', 'nina3.4', 'nina1+2', 'nina3', 'nina4', 'SIC']\n",
    "\n",
    "df = pd.read_csv(\"../../feature-prepare/input-PC3.csv\")\n",
    "\n",
    "features = [feature for feature in list(df.keys()) if feature not in exclude]\n",
    "target = ['PC']\n",
    "\n",
    "predPC = []\n",
    "obsPC = []\n",
    "\n",
    "idx = [line for line in range(0,32)]\n",
    "idxx = [line for line in range(32,40)]\n",
    "train_df = df.iloc[idx][features]\n",
    "train_target = df.iloc[idx][target]\n",
    "test_df = df.iloc[idxx][features]\n",
    "test_target = df.iloc[idxx][target]\n",
    "    \n",
    "param = {'nthread':6, #when use hyperthread, xgboost may become slower\n",
    "              'learning_rate': 0.01, #so called `eta` value\n",
    "              'max_depth': 10,\n",
    "              'min_child_weight': 1, #5\n",
    "              'silent': True,\n",
    "              'subsample': 0.3,\n",
    "              'colsample_bytree': 1.0,\n",
    "              'n_estimators': 3000}\n",
    "\n",
    "dtrain = xgb.DMatrix(train_df, label=train_target, feature_names=features)\n",
    "dtest  = xgb.DMatrix(test_df, label=test_target, feature_names=features)\n",
    "    \n",
    "    \n",
    "    \n",
    "cv_res= xgb.cv(param,dtrain,num_boost_round=6000,early_stopping_rounds=3000,nfold=4, metrics='rmse',show_stdv=False)\n",
    "\n",
    "bst = xgb.train(param,dtrain,num_boost_round=cv_res.shape[0])\n",
    "pred = bst.predict(dtest)\n",
    "    \n",
    "print(pred)\n",
    "\n",
    "oo = pd.DataFrame(pred)\n",
    "oo.to_csv('PC3.txt',header=0,index=0)"
   ]
  },
  {
   "cell_type": "code",
   "execution_count": 3,
   "metadata": {},
   "outputs": [
    {
     "name": "stdout",
     "output_type": "stream",
     "text": [
      "weight:        {'SST-Pacific': 106, 'SC-EU': 411, 'SC-TP': 256, 'SST-Atlantic': 211, 'Z70': 120}\n",
      "gain:        {'SST-Pacific': 608560.7865783019, 'SC-EU': 248422.2028212506, 'SC-TP': 561345.3828598323, 'SST-Atlantic': 532916.2985081513, 'Z70': 710189.51553}\n",
      "cover:        {'SST-Pacific': 7.084905660377358, 'SC-EU': 4.583941605839416, 'SC-TP': 6.69921875, 'SST-Atlantic': 6.9052132701421804, 'Z70': 8.175}\n",
      "total_gain:        {'SST-Pacific': 64507443.3773, 'SC-EU': 102101525.359534, 'SC-TP': 143704418.01211706, 'SST-Atlantic': 112445338.98521993, 'Z70': 85222741.8636}\n",
      "total_cover:        {'SST-Pacific': 751.0, 'SC-EU': 1884.0, 'SC-TP': 1715.0, 'SST-Atlantic': 1457.0, 'Z70': 981.0}\n"
     ]
    }
   ],
   "source": [
    "for impt_type in 'weight', 'gain', 'cover', 'total_gain', 'total_cover':\n",
    "    print(impt_type + \":        \" + str(bst.get_score(importance_type=impt_type)))"
   ]
  },
  {
   "cell_type": "code",
   "execution_count": null,
   "metadata": {},
   "outputs": [],
   "source": []
  }
 ],
 "metadata": {
  "kernelspec": {
   "display_name": "Python 3",
   "language": "python",
   "name": "python3"
  },
  "language_info": {
   "codemirror_mode": {
    "name": "ipython",
    "version": 3
   },
   "file_extension": ".py",
   "mimetype": "text/x-python",
   "name": "python",
   "nbconvert_exporter": "python",
   "pygments_lexer": "ipython3",
   "version": "3.8.5"
  }
 },
 "nbformat": 4,
 "nbformat_minor": 4
}

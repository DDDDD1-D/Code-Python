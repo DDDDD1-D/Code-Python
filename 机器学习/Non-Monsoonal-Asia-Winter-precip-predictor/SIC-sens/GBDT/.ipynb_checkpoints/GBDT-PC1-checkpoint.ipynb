{
 "cells": [
  {
   "cell_type": "code",
   "execution_count": 1,
   "metadata": {},
   "outputs": [],
   "source": [
    "import sys\n",
    "import py_compile\n",
    "import pandas as pd\n",
    "import numpy as np\n",
    "\n",
    "sys.path.append(r\"../../\")\n",
    "py_compile.compile(\"../../utility.py\")\n",
    "from utility import rmse\n",
    "from sklearn import ensemble"
   ]
  },
  {
   "cell_type": "code",
   "execution_count": 2,
   "metadata": {},
   "outputs": [
    {
     "name": "stderr",
     "output_type": "stream",
     "text": [
      "/home/qqf/Documents/anaconda3/lib/python3.8/site-packages/sklearn/utils/validation.py:72: DataConversionWarning: A column-vector y was passed when a 1d array was expected. Please change the shape of y to (n_samples, ), for example using ravel().\n",
      "  return f(**kwargs)\n"
     ]
    }
   ],
   "source": [
    "exclude = ['PC', 'SC-TP','AO', 'NAO', 'PNA', 'nina1+2', 'SIC']\n",
    "\n",
    "df = pd.read_csv(\"../../feature-prepare/input-PC1.csv\")\n",
    "\n",
    "features = [feature for feature in list(df.keys()) if feature not in exclude]\n",
    "target = ['PC']\n",
    "\n",
    "predPC = []\n",
    "obsPC = []\n",
    "\n",
    "idx = [line for line in range(0,32)]\n",
    "idxx = [line for line in range(32,40)]\n",
    "train_df = df.iloc[idx][features]\n",
    "train_target = df.iloc[idx][target]\n",
    "test_df = df.iloc[idxx][features]\n",
    "test_target = df.iloc[idxx][target]\n",
    "\n",
    "params = {'n_estimators': 500, 'max_depth': 4, 'min_samples_split': 2,'subsample':0.1,\n",
    "          'learning_rate': 0.01, 'loss': 'ls'}\n",
    "\n",
    "gbr = ensemble.GradientBoostingRegressor(**params)\n",
    "\n",
    "gbr.fit(train_df, train_target)\n",
    "\n",
    "pred = gbr.predict(test_df)\n",
    "\n",
    "oo = pd.DataFrame(pred)\n",
    "oo.to_csv('PC1.txt',header=0,index=0)"
   ]
  },
  {
   "cell_type": "code",
   "execution_count": 3,
   "metadata": {},
   "outputs": [
    {
     "data": {
      "text/plain": [
       "array([0.13138748, 0.11375412, 0.11237162, 0.11868287, 0.14131764,\n",
       "       0.16108609, 0.08580373, 0.0530649 , 0.08253154])"
      ]
     },
     "execution_count": 3,
     "metadata": {},
     "output_type": "execute_result"
    }
   ],
   "source": [
    "gbr.feature_importances_"
   ]
  },
  {
   "cell_type": "code",
   "execution_count": null,
   "metadata": {},
   "outputs": [],
   "source": []
  }
 ],
 "metadata": {
  "kernelspec": {
   "display_name": "Python 3",
   "language": "python",
   "name": "python3"
  },
  "language_info": {
   "codemirror_mode": {
    "name": "ipython",
    "version": 3
   },
   "file_extension": ".py",
   "mimetype": "text/x-python",
   "name": "python",
   "nbconvert_exporter": "python",
   "pygments_lexer": "ipython3",
   "version": "3.8.5"
  }
 },
 "nbformat": 4,
 "nbformat_minor": 4
}

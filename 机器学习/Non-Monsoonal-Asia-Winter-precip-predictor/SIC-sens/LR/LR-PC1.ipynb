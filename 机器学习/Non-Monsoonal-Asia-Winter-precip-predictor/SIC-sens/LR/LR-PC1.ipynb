{
 "cells": [
  {
   "cell_type": "code",
   "execution_count": 1,
   "metadata": {},
   "outputs": [],
   "source": [
    "import sys\n",
    "import py_compile\n",
    "import pandas as pd\n",
    "import numpy as np\n",
    "\n",
    "sys.path.append(r\"../../\")\n",
    "py_compile.compile(\"../../utility.py\")\n",
    "from utility import rmse\n",
    "\n",
    "from sklearn.linear_model import LinearRegression\n",
    "from sklearn.model_selection import train_test_split \n",
    "from sklearn import model_selection as ms"
   ]
  },
  {
   "cell_type": "code",
   "execution_count": 2,
   "metadata": {},
   "outputs": [
    {
     "name": "stdout",
     "output_type": "stream",
     "text": [
      "[[ 1438.60118027]\n",
      " [ -372.01822157]\n",
      " [   31.5519213 ]\n",
      " [ -358.59197988]\n",
      " [ -609.53683932]\n",
      " [ -403.61667877]\n",
      " [ -522.54062985]\n",
      " [-1848.6615635 ]]\n"
     ]
    }
   ],
   "source": [
    "exclude = ['PC', 'SC-TP','AO', 'NAO', 'PNA', 'nina1+2', 'SIC']\n",
    "\n",
    "df = pd.read_csv(\"../../feature-prepare/input-PC1.csv\")\n",
    "\n",
    "features = [feature for feature in list(df.keys()) if feature not in exclude]\n",
    "target = ['PC']\n",
    "\n",
    "predPC = []\n",
    "obsPC = []\n",
    "\n",
    "idx = [line for line in range(0,32)]\n",
    "idxx = [line for line in range(32,40)]\n",
    "train_df = df.iloc[idx][features]\n",
    "train_target = df.iloc[idx][target]\n",
    "test_df = df.iloc[idxx][features]\n",
    "    \n",
    "model = LinearRegression(normalize=True)\n",
    "model.fit(train_df,train_target)\n",
    "    \n",
    "pred = model.predict(test_df)\n",
    "print(pred)\n",
    "\n",
    "oo = pd.DataFrame(pred)\n",
    "oo.to_csv('PC1.txt',header=0,index=0)"
   ]
  },
  {
   "cell_type": "code",
   "execution_count": 3,
   "metadata": {},
   "outputs": [
    {
     "data": {
      "text/plain": [
       "array([[ 188.73280774,  -24.16638582,  382.68696804, -284.47737286,\n",
       "          97.72346474, -315.14718773,   73.22740161,   73.22740161,\n",
       "          73.22740161]])"
      ]
     },
     "execution_count": 3,
     "metadata": {},
     "output_type": "execute_result"
    }
   ],
   "source": [
    "model.coef_"
   ]
  },
  {
   "cell_type": "code",
   "execution_count": null,
   "metadata": {},
   "outputs": [],
   "source": []
  }
 ],
 "metadata": {
  "kernelspec": {
   "display_name": "Python 3",
   "language": "python",
   "name": "python3"
  },
  "language_info": {
   "codemirror_mode": {
    "name": "ipython",
    "version": 3
   },
   "file_extension": ".py",
   "mimetype": "text/x-python",
   "name": "python",
   "nbconvert_exporter": "python",
   "pygments_lexer": "ipython3",
   "version": "3.8.5"
  }
 },
 "nbformat": 4,
 "nbformat_minor": 4
}
